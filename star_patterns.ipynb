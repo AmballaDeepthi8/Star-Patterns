{
 "cells": [
  {
   "cell_type": "raw",
   "id": "9f046f1b",
   "metadata": {},
   "source": [
    "a)      1\n",
    "        2 2\n",
    "        3 3 3\n",
    "        4 4 4 4\n",
    "        5 5 5 5 5"
   ]
  },
  {
   "cell_type": "code",
   "execution_count": 22,
   "id": "7c72c4df",
   "metadata": {},
   "outputs": [
    {
     "name": "stdout",
     "output_type": "stream",
     "text": [
      "Enter the height5\n",
      "1 \n",
      "2 2 \n",
      "3 3 3 \n",
      "4 4 4 4 \n",
      "5 5 5 5 5 \n"
     ]
    }
   ],
   "source": [
    "num=int(input(\"Enter the height\"))\n",
    "for i in range(1,num+1):\n",
    "    \n",
    "    for j in range(1,i+1):\n",
    "        print(i,end=\" \")\n",
    "    print()"
   ]
  },
  {
   "cell_type": "raw",
   "id": "2a009f32",
   "metadata": {},
   "source": [
    "b)      1\n",
    "        1 2\n",
    "        1 2 3\n",
    "        1 2 3 4\n",
    "        1 2 3 4 5"
   ]
  },
  {
   "cell_type": "code",
   "execution_count": 24,
   "id": "128c1c4d",
   "metadata": {},
   "outputs": [
    {
     "name": "stdout",
     "output_type": "stream",
     "text": [
      "enter the height5\n",
      "1 \n",
      "1 2 \n",
      "1 2 3 \n",
      "1 2 3 4 \n",
      "1 2 3 4 5 \n"
     ]
    }
   ],
   "source": [
    "num=int(input(\"enter the height\"))\n",
    "for i in range(1,num+1):\n",
    "    for j in range(1,i+1):\n",
    "        print(j,end=\" \")\n",
    "    print()"
   ]
  },
  {
   "cell_type": "raw",
   "id": "0f779e20",
   "metadata": {},
   "source": [
    "c)      1 1 1 1 1\n",
    "        2 2 2 2\n",
    "        3 3 3\n",
    "        4 4\n",
    "        5\n"
   ]
  },
  {
   "cell_type": "code",
   "execution_count": 44,
   "id": "0e421a1f",
   "metadata": {},
   "outputs": [
    {
     "name": "stdout",
     "output_type": "stream",
     "text": [
      "enter the height5\n",
      "1 1 1 1 1 \n",
      "2 2 2 2 \n",
      "3 3 3 \n",
      "4 4 \n",
      "5 \n"
     ]
    }
   ],
   "source": [
    "num=int(input(\"enter the height\"))\n",
    "for i in range(num,0,-1):\n",
    "    for j in range(1,i+1):\n",
    "        print(num+1-i,end=\" \")\n",
    "    print()"
   ]
  },
  {
   "cell_type": "raw",
   "id": "50f028f6",
   "metadata": {},
   "source": [
    "d)      5 5 5 5 5\n",
    "        5 5 5 5\n",
    "        5 5 5\n",
    "        5 5\n",
    "        5"
   ]
  },
  {
   "cell_type": "code",
   "execution_count": 61,
   "id": "d76078ba",
   "metadata": {},
   "outputs": [
    {
     "name": "stdout",
     "output_type": "stream",
     "text": [
      "enter the height5\n",
      "5 5 5 5 5 \n",
      "5 5 5 5 \n",
      "5 5 5 \n",
      "5 5 \n",
      "5 \n"
     ]
    }
   ],
   "source": [
    "number=5\n",
    "num=int(input(\"enter the height\"))\n",
    "for i in range(num,0,-1):\n",
    "    for j in range(1,i+1):\n",
    "        print(number,end=\" \")\n",
    "    print()"
   ]
  },
  {
   "cell_type": "raw",
   "id": "c54793cb",
   "metadata": {},
   "source": [
    "e)      0 1 2 3 4 5\n",
    "        0 1 2 3 4\n",
    "        0 1 2 3\n",
    "        0 1 2\n",
    "        0 1"
   ]
  },
  {
   "cell_type": "code",
   "execution_count": 49,
   "id": "01698935",
   "metadata": {},
   "outputs": [
    {
     "name": "stdout",
     "output_type": "stream",
     "text": [
      "enter the height6\n",
      "0 1 2 3 4 5 \n",
      "0 1 2 3 4 \n",
      "0 1 2 3 \n",
      "0 1 2 \n",
      "0 1 \n",
      "0 \n"
     ]
    }
   ],
   "source": [
    "num=int(input(\"enter the height\"))\n",
    "for i in range(num,0,-1):\n",
    "    for j in range(0,i):\n",
    "        print(j,end=\" \")\n",
    "    print()"
   ]
  },
  {
   "cell_type": "raw",
   "id": "be6f8cb9",
   "metadata": {},
   "source": [
    "f)      1\n",
    "        3 3\n",
    "        5 5 5\n",
    "        7 7 7 7\n",
    "        9 9 9 9 9"
   ]
  },
  {
   "cell_type": "code",
   "execution_count": 63,
   "id": "c809131e",
   "metadata": {},
   "outputs": [
    {
     "name": "stdout",
     "output_type": "stream",
     "text": [
      "Enter the height5\n",
      "1 \n",
      "3 3 \n",
      "5 5 5 \n",
      "7 7 7 7 \n",
      "9 9 9 9 9 \n"
     ]
    }
   ],
   "source": [
    "number=1\n",
    "num=int(input(\"Enter the height\"))\n",
    "for i in range(1,num+1):\n",
    "    \n",
    "    for j in range(1,i+1):\n",
    "        print(number,end=\" \")\n",
    "    number=number+2\n",
    "    print()"
   ]
  },
  {
   "cell_type": "raw",
   "id": "d0bf3c4b",
   "metadata": {},
   "source": [
    "g)      5 5 5 5 5\n",
    "        4 4 4 4\n",
    "        3 3 3\n",
    "        2 2\n",
    "        1\n"
   ]
  },
  {
   "cell_type": "code",
   "execution_count": 65,
   "id": "57c247d8",
   "metadata": {},
   "outputs": [
    {
     "name": "stdout",
     "output_type": "stream",
     "text": [
      "enter the height5\n",
      "5 5 5 5 5 \n",
      "4 4 4 4 \n",
      "3 3 3 \n",
      "2 2 \n",
      "1 \n"
     ]
    }
   ],
   "source": [
    "num=int(input(\"enter the height\"))\n",
    "for i in range(num,0,-1):\n",
    "    for j in range(1,i+1):\n",
    "        print(i,end=\" \")\n",
    "    print()"
   ]
  },
  {
   "cell_type": "raw",
   "id": "02ad830c",
   "metadata": {},
   "source": [
    "h)      1\n",
    "        2 1\n",
    "        3 2 1\n",
    "        4 3 2 1\n",
    "        5 4 3 2 1"
   ]
  },
  {
   "cell_type": "code",
   "execution_count": 69,
   "id": "11fbdd50",
   "metadata": {},
   "outputs": [
    {
     "name": "stdout",
     "output_type": "stream",
     "text": [
      "Enter the height5\n",
      "1 \n",
      "2 1 \n",
      "3 2 1 \n",
      "4 3 2 1 \n",
      "5 4 3 2 1 \n"
     ]
    }
   ],
   "source": [
    "num=int(input(\"Enter the height\"))\n",
    "for i in range(1,num+1):\n",
    "    \n",
    "    for j in range(i,0,-1):\n",
    "        print(j,end=\" \")\n",
    "    print()"
   ]
  },
  {
   "cell_type": "raw",
   "id": "dffab901",
   "metadata": {},
   "source": [
    "i)      5 4 3 2 1\n",
    "        4 3 2 1\n",
    "        3 2 1\n",
    "        2 1\n",
    "        1"
   ]
  },
  {
   "cell_type": "code",
   "execution_count": 70,
   "id": "75ef3d8e",
   "metadata": {},
   "outputs": [
    {
     "name": "stdout",
     "output_type": "stream",
     "text": [
      "Enter the height5\n",
      "5 4 3 2 1 \n",
      "4 3 2 1 \n",
      "3 2 1 \n",
      "2 1 \n",
      "1 \n"
     ]
    }
   ],
   "source": [
    "num=int(input(\"Enter the height\"))\n",
    "for i in range(num,0,-1):\n",
    "    \n",
    "    for j in range(i,0,-1):\n",
    "        print(j,end=\" \")\n",
    "    print()"
   ]
  },
  {
   "cell_type": "raw",
   "id": "6c7e5a94",
   "metadata": {},
   "source": [
    "j)      1\n",
    "        3 2\n",
    "        6 5 4\n",
    "        10 9 8 7"
   ]
  },
  {
   "cell_type": "code",
   "execution_count": 108,
   "id": "01286cfc",
   "metadata": {},
   "outputs": [
    {
     "name": "stdout",
     "output_type": "stream",
     "text": [
      "enter the height5\n",
      "1 \n",
      "2 3 \n",
      "4 5 6 \n",
      "7 8 9 10 \n"
     ]
    }
   ],
   "source": [
    "number=1\n",
    "num=int(input(\"enter the height\"))\n",
    "for i in range(1,num):\n",
    "    for j in range(1,i+1):\n",
    "        \n",
    "        print(number,end=\" \")\n",
    "        number=number+1\n",
    "    print()\n",
    "    "
   ]
  },
  {
   "cell_type": "raw",
   "id": "942dd2ff",
   "metadata": {},
   "source": [
    "k)              1\n",
    "              1 2\n",
    "            1 2 3\n",
    "          1 2 3 4\n",
    "        1 2 3 4 5"
   ]
  },
  {
   "cell_type": "code",
   "execution_count": 78,
   "id": "3530c889",
   "metadata": {},
   "outputs": [
    {
     "name": "stdout",
     "output_type": "stream",
     "text": [
      "Enter the height5\n",
      "        1 \n",
      "      1 2 \n",
      "    1 2 3 \n",
      "  1 2 3 4 \n",
      "1 2 3 4 5 \n"
     ]
    }
   ],
   "source": [
    "size=int(input(\"Enter the height\"))\n",
    "for i in range(size):\n",
    "    for j in range(1, size - i):\n",
    "        print(\" \", end=\" \")\n",
    "    for k in range(1,i+2):\n",
    "        print(k, end=' ')\n",
    "    print()"
   ]
  },
  {
   "cell_type": "raw",
   "id": "ce85f2b2",
   "metadata": {},
   "source": [
    "l)      1\n",
    "        1 1\n",
    "        1 2 1\n",
    "        1 3 3 1\n",
    "        1 4 6 4 1\n",
    "        1 5 10 10 5 1\n",
    "        1 6 15 20 15 6 1"
   ]
  },
  {
   "cell_type": "code",
   "execution_count": 103,
   "id": "d896006d",
   "metadata": {},
   "outputs": [
    {
     "name": "stdout",
     "output_type": "stream",
     "text": [
      "Enter the height7\n",
      "1 \n",
      "1 1 \n",
      "1 2 1 \n",
      "1 3 3 1 \n",
      "1 4 6 4 1 \n",
      "1 5 10 10 5 1 \n",
      "1 6 15 20 15 6 1 \n"
     ]
    }
   ],
   "source": [
    "from math import factorial\n",
    "\n",
    "num=int(input(\"Enter the height\"))\n",
    "\n",
    "for i in range(num):\n",
    "    for j in range(i+1):\n",
    "        print(factorial(i)//(factorial(j)*factorial(i-j)),end=\" \")\n",
    "    print()"
   ]
  },
  {
   "cell_type": "raw",
   "id": "1281b14a",
   "metadata": {},
   "source": [
    "m)      1 2 3 4 5\n",
    "        2 2 3 4 5\n",
    "        3 3 3 4 5\n",
    "        4 4 4 4 5\n",
    "        5 5 5 5 5"
   ]
  },
  {
   "cell_type": "code",
   "execution_count": 112,
   "id": "cbdde2f4",
   "metadata": {},
   "outputs": [
    {
     "name": "stdout",
     "output_type": "stream",
     "text": [
      "1 2 3 4 5 \n",
      "2 2 3 4 5 \n",
      "3 3 3 4 5 \n",
      "4 4 4 4 5 \n",
      "5 5 5 5 5 \n"
     ]
    }
   ],
   "source": [
    "num=int(input(\"Enter the height\"))\n",
    "\n",
    "for i in range(1, n + 1):\n",
    "    for j in range(1, n + 1):\n",
    "        if j <= i:\n",
    "            print(i, end=\" \")\n",
    "        else:\n",
    "            print(j, end=\" \")\n",
    "    print()"
   ]
  },
  {
   "cell_type": "raw",
   "id": "635a9343",
   "metadata": {},
   "source": [
    "n)      1\n",
    "        2 4\n",
    "        3 6 9\n",
    "        4 8 12 16\n",
    "        5 10 15 20 25\n",
    "        6 12 18 24 30 36\n",
    "        7 14 21 28 35 42 49\n",
    "        8 16 24 32 40 48 56 64"
   ]
  },
  {
   "cell_type": "code",
   "execution_count": 120,
   "id": "1190990d",
   "metadata": {},
   "outputs": [
    {
     "name": "stdout",
     "output_type": "stream",
     "text": [
      "Enter the height8\n",
      "1 \n",
      "2 4 \n",
      "3 6 9 \n",
      "4 8 12 16 \n",
      "5 10 15 20 25 \n",
      "6 12 18 24 30 36 \n",
      "7 14 21 28 35 42 49 \n",
      "8 16 24 32 40 48 56 64 \n"
     ]
    }
   ],
   "source": [
    "num=int(input(\"Enter the height\"))\n",
    "for i in range(1,num+1):\n",
    "    for j in range(1,i+1):\n",
    "        print(i*j,end=\" \")\n",
    "    print()\n",
    "    "
   ]
  },
  {
   "cell_type": "raw",
   "id": "e8fd0849",
   "metadata": {},
   "source": [
    "o)      *\n",
    "        * *\n",
    "        * * *\n",
    "        * * * *\n",
    "        * * * * *"
   ]
  },
  {
   "cell_type": "code",
   "execution_count": 121,
   "id": "b0f644e0",
   "metadata": {},
   "outputs": [
    {
     "name": "stdout",
     "output_type": "stream",
     "text": [
      "Enter the height:5\n",
      "* \n",
      "* * \n",
      "* * * \n",
      "* * * * \n",
      "* * * * * \n"
     ]
    }
   ],
   "source": [
    "num=int(input(\"Enter the height:\"))\n",
    "for i in range(num):\n",
    "    for j in range(i+1):\n",
    "        print(\"*\",end=\" \")\n",
    "    print()"
   ]
  },
  {
   "cell_type": "raw",
   "id": "d71429b3",
   "metadata": {},
   "source": [
    "p)              *\n",
    "              * *\n",
    "            * * *\n",
    "          * * * *\n",
    "        * * * * *"
   ]
  },
  {
   "cell_type": "code",
   "execution_count": 130,
   "id": "460ddc93",
   "metadata": {},
   "outputs": [
    {
     "name": "stdout",
     "output_type": "stream",
     "text": [
      "Enter the height5\n",
      "        * \n",
      "      * * \n",
      "    * * * \n",
      "  * * * * \n",
      "* * * * * \n"
     ]
    }
   ],
   "source": [
    "size=int(input(\"Enter the height\"))\n",
    "for i in range(size):\n",
    "    for j in range(1, size - i):\n",
    "        print(\" \", end=\" \")\n",
    "    for k in range(1,i+2):\n",
    "        print(\"*\", end=' ')\n",
    "    print()"
   ]
  },
  {
   "cell_type": "raw",
   "id": "77b770f7",
   "metadata": {},
   "source": [
    "Q)      * * * * *\n",
    "        * * * *\n",
    "        * * *\n",
    "        * *\n",
    "        *"
   ]
  },
  {
   "cell_type": "code",
   "execution_count": 135,
   "id": "ac55242f",
   "metadata": {},
   "outputs": [
    {
     "name": "stdout",
     "output_type": "stream",
     "text": [
      "Enter the height5\n",
      "* * * * * \n",
      "* * * * \n",
      "* * * \n",
      "* * \n",
      "* \n"
     ]
    }
   ],
   "source": [
    "num=int(input(\"Enter the height\"))\n",
    "for i in range(num):\n",
    "    for j in range(num,i,-1):\n",
    "        print(\"*\", end=\" \")\n",
    "    print()"
   ]
  },
  {
   "cell_type": "raw",
   "id": "bb8e0884",
   "metadata": {},
   "source": [
    "R)      * * * * * *\n",
    "         * * * * *\n",
    "          * * * *\n",
    "           * * *\n",
    "            * *\n",
    "             *\n"
   ]
  },
  {
   "cell_type": "code",
   "execution_count": 177,
   "id": "26a06ac0",
   "metadata": {},
   "outputs": [
    {
     "name": "stdout",
     "output_type": "stream",
     "text": [
      " * * * * * * \n",
      "  * * * * * \n",
      "   * * * * \n",
      "    * * * \n",
      "     * * \n",
      "      * \n"
     ]
    }
   ],
   "source": [
    "n=6\n",
    "for i in range(n,0,-1):\n",
    "    \n",
    "    for j in range(n-i+1):\n",
    "        print(\" \",end=\"\")\n",
    "    for k in range(1,i+1):\n",
    "        print(\"* \",end=\"\")\n",
    "\n",
    "    print()"
   ]
  },
  {
   "cell_type": "raw",
   "id": "c59b3e3f",
   "metadata": {},
   "source": [
    "S)      *****\n",
    "         ****\n",
    "          ***\n",
    "           **\n",
    "            *"
   ]
  },
  {
   "cell_type": "code",
   "execution_count": 178,
   "id": "26f0d2dd",
   "metadata": {},
   "outputs": [
    {
     "name": "stdout",
     "output_type": "stream",
     "text": [
      "Enter the height5\n",
      " *****\n",
      "  ****\n",
      "   ***\n",
      "    **\n",
      "     *\n"
     ]
    }
   ],
   "source": [
    "n=int(input(\"Enter the height\"))\n",
    "for i in range(n,0,-1):\n",
    "    \n",
    "    for j in range(n-i+1):\n",
    "        print(\" \",end=\"\")\n",
    "    for k in range(1,i+1):\n",
    "        print(\"*\",end=\"\")\n",
    "\n",
    "    print()"
   ]
  },
  {
   "cell_type": "raw",
   "id": "7c9459af",
   "metadata": {},
   "source": [
    "t)            *\n",
    "             * *\n",
    "            * * *\n",
    "           * * * *\n",
    "          * * * * *\n",
    "         * * * * * *\n",
    "        * * * * * * *"
   ]
  },
  {
   "cell_type": "code",
   "execution_count": 181,
   "id": "d1720d3f",
   "metadata": {},
   "outputs": [
    {
     "name": "stdout",
     "output_type": "stream",
     "text": [
      "Enter the height7\n",
      "      * \n",
      "     * * \n",
      "    * * * \n",
      "   * * * * \n",
      "  * * * * * \n",
      " * * * * * * \n",
      "* * * * * * * \n"
     ]
    }
   ],
   "source": [
    "n=int(input(\"Enter the height\"))\n",
    "for i in range(1,n+1):\n",
    "    \n",
    "    for j in range(1,n-i+1):\n",
    "        print(\" \",end=\"\")\n",
    "    for k in range(1,i+1):\n",
    "        print(\"* \",end=\"\")\n",
    "\n",
    "    print()"
   ]
  },
  {
   "cell_type": "raw",
   "id": "73485094",
   "metadata": {},
   "source": [
    "u)      *\n",
    "        * *\n",
    "        * * *\n",
    "        * * * *\n",
    "        * * * * *\n",
    "        * * * * * *\n",
    "\n",
    "        * * * * * *\n",
    "        * * * * *\n",
    "        * * * *\n",
    "        * * *\n",
    "        * *\n",
    "        *"
   ]
  },
  {
   "cell_type": "code",
   "execution_count": 10,
   "id": "4d3faf62",
   "metadata": {},
   "outputs": [
    {
     "name": "stdout",
     "output_type": "stream",
     "text": [
      "Enter a number :6\n",
      "* \n",
      "* * \n",
      "* * * \n",
      "* * * * \n",
      "* * * * * \n",
      "* * * * * * \n",
      "\n",
      "* * * * * * \n",
      "* * * * * \n",
      "* * * * \n",
      "* * * \n",
      "* * \n",
      "* \n"
     ]
    }
   ],
   "source": [
    "num=int(input(\"Enter a number :\"))\n",
    "for i in range(num):\n",
    "    for j in range(i+1):\n",
    "        print(\"*\",end=\" \")\n",
    "    print()\n",
    "print()\n",
    "for i in range(num,0,-1):\n",
    "    for j in range(i):\n",
    "        print(\"*\",end=\" \")\n",
    "    print()"
   ]
  },
  {
   "cell_type": "raw",
   "id": "54ad84b8",
   "metadata": {},
   "source": [
    "v)      *\n",
    "        * *\n",
    "        * * *\n",
    "        * * * *\n",
    "        * * * * *\n",
    "        * * * *\n",
    "        * * *\n",
    "        * *\n",
    "        *"
   ]
  },
  {
   "cell_type": "code",
   "execution_count": 12,
   "id": "54c8b0b2",
   "metadata": {},
   "outputs": [
    {
     "name": "stdout",
     "output_type": "stream",
     "text": [
      "Enter a number :5\n",
      "* \n",
      "* * \n",
      "* * * \n",
      "* * * * \n",
      "* * * * * \n",
      "* * * * \n",
      "* * * \n",
      "* * \n",
      "* \n"
     ]
    }
   ],
   "source": [
    "num=int(input(\"Enter a number :\"))\n",
    "for i in range(num):\n",
    "    for j in range(i+1):\n",
    "        print(\"*\",end=\" \")\n",
    "    print()\n",
    "for i in range(num-1,0,-1):\n",
    "    for j in range(i):\n",
    "        print(\"*\",end=\" \")\n",
    "    print()"
   ]
  },
  {
   "cell_type": "raw",
   "id": "dbdf08a6",
   "metadata": {},
   "source": [
    "W)          *\n",
    "          * *\n",
    "        * * *\n",
    "      * * * *\n",
    "    * * * * *\n",
    "      * * * *\n",
    "        * * *\n",
    "          * *\n",
    "            *"
   ]
  },
  {
   "cell_type": "code",
   "execution_count": 72,
   "id": "6cb136c8",
   "metadata": {},
   "outputs": [
    {
     "name": "stdout",
     "output_type": "stream",
     "text": [
      "Enter the height5\n",
      "        * \n",
      "      * * \n",
      "    * * * \n",
      "  * * * * \n",
      "* * * * * \n",
      "  * * * * \n",
      "    * * * \n",
      "      * * \n",
      "        * \n",
      "          \n"
     ]
    }
   ],
   "source": [
    "n=int(input(\"Enter the height\"))\n",
    "for i in range(1,n+1):\n",
    "    for j in range(1,n-i+1):\n",
    "        print(\" \",end=\" \")\n",
    "    for k in range(1,i+1):\n",
    "        print(\"*\",end=\" \")\n",
    "    print()\n",
    "for i in range(1,n+1):\n",
    "    \n",
    "    for j in range(1,i+1):\n",
    "        print(\" \",end=\" \")\n",
    "    for k in range(1,n-i+1):\n",
    "        print(\"*\",end=\" \")\n",
    "\n",
    "    print()"
   ]
  },
  {
   "cell_type": "raw",
   "id": "b60a56ca",
   "metadata": {},
   "source": [
    "X)        * * * * *\n",
    "           * * * *\n",
    "            * * *\n",
    "             * *\n",
    "              *\n",
    "              *\n",
    "             * *\n",
    "            * * *\n",
    "           * * * *\n",
    "          * * * * *"
   ]
  },
  {
   "cell_type": "code",
   "execution_count": 58,
   "id": "210f8eda",
   "metadata": {},
   "outputs": [
    {
     "name": "stdout",
     "output_type": "stream",
     "text": [
      "* * * * * \n",
      " * * * * \n",
      "  * * * \n",
      "   * * \n",
      "    * \n",
      "    * \n",
      "   * * \n",
      "  * * * \n",
      " * * * * \n",
      "* * * * * \n"
     ]
    }
   ],
   "source": [
    "n=5\n",
    "for i in range(n,0,-1):\n",
    "    \n",
    "    for j in range(1,n-i+1):\n",
    "        print(\" \",end=\"\")\n",
    "    for k in range(1,i+1):\n",
    "        print(\"* \",end=\"\")\n",
    "    print()\n",
    "for i in range(1,n+1):\n",
    "    for k in range(1,n-i+1):\n",
    "        print(\" \",end=\"\")\n",
    "    for j in range(1,i+1):\n",
    "        print(\"* \",end=\"\")\n",
    "    print()"
   ]
  },
  {
   "cell_type": "raw",
   "id": "736c3f39",
   "metadata": {},
   "source": [
    "Y)           *\n",
    "            * *\n",
    "           * * *\n",
    "          * * * *\n",
    "         * * * * *\n",
    "        * * * * * *\n",
    "         * * * * *\n",
    "          * * * *\n",
    "           * * *\n",
    "            * *\n",
    "             *"
   ]
  },
  {
   "cell_type": "code",
   "execution_count": 62,
   "id": "00d4fea7",
   "metadata": {},
   "outputs": [
    {
     "name": "stdout",
     "output_type": "stream",
     "text": [
      "Enter the height6\n",
      "     * \n",
      "    * * \n",
      "   * * * \n",
      "  * * * * \n",
      " * * * * * \n",
      "* * * * * * \n",
      " * * * * * \n",
      "  * * * * \n",
      "   * * * \n",
      "    * * \n",
      "     * \n",
      "      \n"
     ]
    }
   ],
   "source": [
    "n=int(input(\"Enter the height\"))\n",
    "for i in range(1,n+1):\n",
    "    for j in range(1,n-i+1):\n",
    "        print(\" \",end=\"\")\n",
    "    for k in range(1,i+1):\n",
    "        print(\"* \",end=\"\")\n",
    "    print()\n",
    "for i in range(1,n+1):\n",
    "    \n",
    "    for j in range(1,i+1):\n",
    "        print(\" \",end=\"\")\n",
    "    for k in range(1,n-i+1):\n",
    "        print(\"* \",end=\"\")\n",
    "\n",
    "    print()"
   ]
  },
  {
   "cell_type": "raw",
   "id": "da6f1857",
   "metadata": {},
   "source": [
    "Z)          *\n",
    "           * *\n",
    "          *   *\n",
    "         *     *\n",
    "        *       *\n",
    "         *     *\n",
    "          *   *\n",
    "           * *\n",
    "            *"
   ]
  },
  {
   "cell_type": "code",
   "execution_count": 69,
   "id": "be42c49f",
   "metadata": {},
   "outputs": [
    {
     "name": "stdout",
     "output_type": "stream",
     "text": [
      "Enter the number :5\n",
      "    *\n",
      "   * *\n",
      "  *   *\n",
      " *     *\n",
      "*       *\n",
      " *     *\n",
      "  *   *\n",
      "   * *\n",
      "    *\n"
     ]
    }
   ],
   "source": [
    "num=int(input(\"Enter the number :\"))\n",
    "\n",
    "for i in range(num):\n",
    "    for j in range(num-i-1):\n",
    "        print(\" \", end=\"\")\n",
    "    for j in range(i * 2 + 1):\n",
    "        if j == 0 or j == i * 2:\n",
    "            print(\"*\", end=\"\")\n",
    "        else:\n",
    "            print(\" \", end=\"\")\n",
    "    \n",
    "    print()\n",
    "\n",
    "for i in range(num_rows - 2, -1, -1):\n",
    "    for j in range(num_rows - i - 1):\n",
    "        print(\" \", end=\"\")\n",
    "    for j in range(i * 2 + 1):\n",
    "        if j == 0 or j == i * 2:\n",
    "            print(\"*\", end=\"\")\n",
    "        else:\n",
    "            print(\" \", end=\"\")\n",
    "    \n",
    "    print()"
   ]
  }
 ],
 "metadata": {
  "kernelspec": {
   "display_name": "Python 3 (ipykernel)",
   "language": "python",
   "name": "python3"
  },
  "language_info": {
   "codemirror_mode": {
    "name": "ipython",
    "version": 3
   },
   "file_extension": ".py",
   "mimetype": "text/x-python",
   "name": "python",
   "nbconvert_exporter": "python",
   "pygments_lexer": "ipython3",
   "version": "3.9.13"
  }
 },
 "nbformat": 4,
 "nbformat_minor": 5
}
